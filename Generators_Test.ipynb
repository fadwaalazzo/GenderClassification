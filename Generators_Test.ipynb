{
 "cells": [
  {
   "cell_type": "code",
   "execution_count": 1,
   "metadata": {
    "collapsed": false
   },
   "outputs": [
    {
     "name": "stderr",
     "output_type": "stream",
     "text": [
      "Using TensorFlow backend.\n"
     ]
    }
   ],
   "source": [
    "import scipy\n",
    "import scipy.io as sio\n",
    "import numpy as np\n",
    "from PIL import Image\n",
    "#import matplotlib.pyplot as plt\n",
    "import math\n",
    "import os\n",
    "from keras.models import Sequential\n",
    "from keras.layers import *\n",
    "from keras.layers.advanced_activations import PReLU\n",
    "#utilities help us transform our data\n",
    "from keras.utils import * \n",
    "from sklearn.utils import shuffle\n",
    "from sklearn.cross_validation import train_test_split\n",
    "rows, cols = 48,48\n",
    "import pandas as pd\n",
    "from keras.callbacks import EarlyStopping, ModelCheckpoint, CSVLogger\n",
    "import tensorflow as tf\n",
    "\n",
    "#!/usr/bin/python\n",
    "import cv2\n",
    "from keras.models import load_model\n",
    "from statistics import mode\n",
    "#from utils import preprocess_input\n",
    "\n"
   ]
  },
  {
   "cell_type": "code",
   "execution_count": null,
   "metadata": {
    "collapsed": true
   },
   "outputs": [],
   "source": []
  },
  {
   "cell_type": "code",
   "execution_count": 2,
   "metadata": {
    "collapsed": false
   },
   "outputs": [],
   "source": [
    "#faces,gender_labels = load_images()\n"
   ]
  },
  {
   "cell_type": "code",
   "execution_count": 3,
   "metadata": {
    "collapsed": false
   },
   "outputs": [],
   "source": [
    "class Data_Generator:\n",
    "    \n",
    "    def __init__(self, metadata_path, batch_size, val_split):\n",
    "\n",
    "        self.data = scipy.io.loadmat(metadata_path)\n",
    "        self.img_paths = self.data['wiki']['full_path'][0][0][0]\n",
    "        self.genders = self.data['wiki']['gender'][0][0][0]\n",
    "        self.batch_size = batch_size\n",
    "        self.val_split = val_split  \n",
    "        self.sorted_gender = []\n",
    "        #self.faces = []\n",
    "        self.face_score = self.data['wiki']['face_score'][0][0][0]\n",
    "        self.second_face_score = self.data['wiki']['second_face_score'][0][0][0]\n",
    "        self.load_keys()\n",
    "        \n",
    "        \n",
    "    def load_keys(self):\n",
    "        indices = []\n",
    "\n",
    "        for i in range(len(self.face_score)):\n",
    "            \n",
    "            data = self.face_score[i]\n",
    "\n",
    "        # second face score\n",
    "            data_second_face_score = self.second_face_score[i]\n",
    "\n",
    "            # if face_score is infinity, image is completely black \n",
    "\n",
    "            if (math.isinf(data) == False):\n",
    "\n",
    "                # if face score is greater than 3 and second face score is nan then image is somewhat better \n",
    "                # Looks readable\n",
    "                if (data > 3.30000000000 and (math.isnan(data_second_face_score) == True)):\n",
    "                    if (math.isnan(self.genders[i]) == False):\n",
    "                        indices.append(i)\n",
    "\n",
    "        self.number_of_imgs = len(indices)\n",
    "        self.val_size = int(self.number_of_imgs * self.val_split)\n",
    "        self.train_size = self.number_of_imgs - self.val_size\n",
    "        self.train_keys = indices[:self.train_size]\n",
    "        self.val_keys = indices[self.train_size:]\n",
    "\n",
    "\n",
    "\n",
    "    def load_data(self, is_train):\n",
    "\n",
    "        while 1:\n",
    "            faces = []\n",
    "            gender_labels = []   \n",
    "\n",
    "            shuffle(self.train_keys)\n",
    "            keys = self.train_keys\n",
    "            if not is_train:\n",
    "                keys = self.val_keys \n",
    "\n",
    "            for key in keys:\n",
    "                img_path = self.img_paths[key][0]\n",
    "                location_of_image = './wiki_crop/' + img_path\n",
    "                #img = cv2.imread('./wiki_crop/' + img_path, 0)            \n",
    "                gender_labels.append(self.genders[key])\n",
    "                #faces.append(cv2.resize(img, (64, 64)))\n",
    "\n",
    "                image = Image.open(location_of_image)\n",
    "                image_resized = image.resize((rows,cols))\n",
    "                image_gray = image_resized.convert('L') \n",
    "                face = np.asarray(image_gray)\n",
    "                faces.append(face)\n",
    "\n",
    "                if len(faces) == self.batch_size:\n",
    "                    faces = np.asarray(faces)\n",
    "                    faces = np.expand_dims(faces,-1)\n",
    "                    gender_labels = pd.get_dummies(gender_labels).as_matrix()\n",
    "                    yield (faces, gender_labels)\n",
    "                    faces = []\n",
    "                    gender_labels = []\n",
    "            faces = np.asarray(faces)\n",
    "            faces = np.expand_dims(faces,-1)\n",
    "            gender_labels = pd.get_dummies(gender_labels).as_matrix()\n",
    "            yield (faces, gender_labels)\n",
    "                "
   ]
  },
  {
   "cell_type": "code",
   "execution_count": 5,
   "metadata": {
    "collapsed": false
   },
   "outputs": [
    {
     "name": "stdout",
     "output_type": "stream",
     "text": [
      "Epoch 1/12\n",
      "17084/17084 [==============================] - 501s - loss: 0.6095 - acc: 0.7117 - val_loss: 0.5470 - val_acc: 0.7792\n",
      "Epoch 2/12\n",
      "17084/17084 [==============================] - 411s - loss: 0.4785 - acc: 0.7776 - val_loss: 0.5736 - val_acc: 0.7086\n",
      "Epoch 3/12\n",
      "17084/17084 [==============================] - 421s - loss: 0.4293 - acc: 0.8103 - val_loss: 0.5820 - val_acc: 0.7223\n",
      "Epoch 4/12\n",
      "17084/17084 [==============================] - 586s - loss: 0.3973 - acc: 0.8275 - val_loss: 0.3704 - val_acc: 0.8356\n",
      "Epoch 5/12\n",
      "17084/17084 [==============================] - 604s - loss: 0.3779 - acc: 0.8388 - val_loss: 0.4674 - val_acc: 0.7882\n",
      "Epoch 6/12\n",
      "17084/17084 [==============================] - 453s - loss: 0.3573 - acc: 0.8475 - val_loss: 0.4105 - val_acc: 0.8161\n",
      "Epoch 7/12\n",
      "17084/17084 [==============================] - 403s - loss: 0.3395 - acc: 0.8573 - val_loss: 0.3389 - val_acc: 0.8546\n",
      "Epoch 8/12\n",
      "17084/17084 [==============================] - 411s - loss: 0.3292 - acc: 0.8653 - val_loss: 0.2944 - val_acc: 0.8751\n",
      "Epoch 9/12\n",
      "17084/17084 [==============================] - 400s - loss: 0.3137 - acc: 0.8703 - val_loss: 0.3053 - val_acc: 0.8804\n",
      "Epoch 10/12\n",
      "17084/17084 [==============================] - 341s - loss: 0.3063 - acc: 0.8760 - val_loss: 0.3538 - val_acc: 0.8609\n",
      "Epoch 11/12\n",
      "17084/17084 [==============================] - 341s - loss: 0.2968 - acc: 0.8771 - val_loss: 0.2894 - val_acc: 0.8830\n",
      "Epoch 12/12\n",
      "17084/17084 [==============================] - 340s - loss: 0.2843 - acc: 0.8825 - val_loss: 0.2849 - val_acc: 0.8872\n"
     ]
    },
    {
     "data": {
      "text/plain": [
       "<keras.callbacks.History at 0x7f85bcf2ff90>"
      ]
     },
     "execution_count": 5,
     "metadata": {},
     "output_type": "execute_result"
    }
   ],
   "source": [
    "\n",
    "data_path = './wiki_crop/wiki.mat'\n",
    "model_save_path = './wiki_crop/simpler_Combined_CNN.hdf5'\n",
    "num_classes = 2\n",
    "image_size = (48, 48, 1)\n",
    "batch_size = 150\n",
    "num_epochs = 12\n",
    "val_split = 0.1\n",
    "data = Data_Generator(data_path, batch_size, val_split)\n",
    "gen_train = data.load_data(True)\n",
    "gen_val = data.load_data(False)\n",
    "\n",
    "model = CNN(image_size, num_classes)\n",
    "model.compile(optimizer='adam', loss='categorical_crossentropy',\n",
    "                                        metrics=['accuracy'])\n",
    "csv_logger = CSVLogger('training.log')\n",
    "early_stop = EarlyStopping('val_acc', patience=200, verbose=1)\n",
    "model_checkpoint = ModelCheckpoint(model_save_path,\n",
    "                                    'val_acc', verbose=0,\n",
    "                                    save_best_only=True)\n",
    "\n",
    "model_callbacks = [early_stop, model_checkpoint, csv_logger]\n",
    "\n",
    "#keras bug \n",
    "K.get_session().run(tf.global_variables_initializer())\n",
    "model.fit_generator(gen_train, nb_epoch=num_epochs, verbose=1, \n",
    "                                    validation_data=gen_val,\n",
    "                                    samples_per_epoch=data.train_size,\n",
    "                                    nb_val_samples=data.val_size,\n",
    "                                    callbacks=model_callbacks)"
   ]
  },
  {
   "cell_type": "code",
   "execution_count": 4,
   "metadata": {
    "collapsed": true
   },
   "outputs": [],
   "source": [
    "def CNN(input_shape,num_classes):\n",
    "    model = Sequential()\n",
    "\n",
    "    model.add(Convolution2D(16, 7, 7, border_mode='same',\n",
    "                            input_shape=input_shape))\n",
    "    model.add(PReLU())\n",
    "    model.add(BatchNormalization())\n",
    "    model.add(AveragePooling2D(pool_size=(5, 5),strides=(2, 2), border_mode='same'))\n",
    "    model.add(Dropout(.5))\n",
    "\n",
    "    model.add(Convolution2D(32, 5, 5, border_mode='same'))\n",
    "    model.add(PReLU())\n",
    "    model.add(BatchNormalization())\n",
    "    model.add(AveragePooling2D(pool_size=(3, 3),strides=(2, 2), border_mode='same'))\n",
    "    model.add(Dropout(.5))\n",
    "\n",
    "    model.add(Convolution2D(32, 3, 3, border_mode='same'))\n",
    "    model.add(PReLU())\n",
    "    model.add(BatchNormalization())\n",
    "    model.add(AveragePooling2D(pool_size=(3, 3),strides=(2, 2), border_mode='same'))\n",
    "    model.add(Dropout(.5))\n",
    "\n",
    "    model.add(Flatten())\n",
    "    model.add(Dense(1028))\n",
    "    model.add(PReLU())\n",
    "    model.add(Dropout(0.5))\n",
    "    model.add(Dense(1028))\n",
    "    model.add(PReLU())\n",
    "    model.add(Dropout(0.5))\n",
    "    model.add(Dense(num_classes))\n",
    "    model.add(Activation('softmax'))\n",
    "\n",
    "    return model"
   ]
  },
  {
   "cell_type": "code",
   "execution_count": 6,
   "metadata": {
    "collapsed": true
   },
   "outputs": [],
   "source": [
    "def preprocess_image(images):\n",
    "    \n",
    "    images = images/255.0\n",
    "    \n",
    "    return images"
   ]
  },
  {
   "cell_type": "code",
   "execution_count": null,
   "metadata": {
    "collapsed": false
   },
   "outputs": [],
   "source": [
    "classification_model_path = './wiki_crop/simpler_Combined_CNN.hdf5'\n",
    "data_path = './wiki_crop/haarcascade_frontalface_default.xml'\n",
    "frame_window = 10\n",
    "gender_labels = {0:'Female',1:'Male'}\n",
    "face_detection = cv2.CascadeClassifier(data_path)\n",
    "gender_classifier = load_model(classification_model_path)\n",
    "gender_window = []\n",
    "\n",
    "video_capture = cv2.VideoCapture(0)\n",
    "font = cv2.FONT_HERSHEY_SIMPLEX\n",
    "cv2.startWindowThread()\n",
    "cv2.namedWindow('window_frame')\n",
    "\n",
    "while True:\n",
    "    _, frame = video_capture.read()\n",
    "    gray = cv2.cvtColor(frame, cv2.COLOR_BGR2GRAY)\n",
    "    faces = face_detection.detectMultiScale(gray,1.3,5)\n",
    "    for (x,y,w,h) in faces:\n",
    "        cv2.rectangle(gray,(x - (int)(0.2*w), y - (int)(0.2*h)),(x + (int)(1.2*w), y + (int)(1.2*h)),(255,0,0),2) # rectangle for image.\n",
    "        face = gray[y - (int)(0.2*h) :y + (int)(1.2*h),x - (int)(0.2*w) : x + (int)(1.2*w)]\n",
    "        try:\n",
    "            face = cv2.resize(face,(48,48))\n",
    "        except:\n",
    "            continue\n",
    "        face = np.expand_dims(face,0)\n",
    "        face = np.expand_dims(face,-1)\n",
    "        face = preprocess_image(face)\n",
    "        #face = face - 143\n",
    "        gender_arg = np.argmax(gender_classifier.predict(face))\n",
    "        gender = gender_labels[gender_arg]\n",
    "        gender_window.append(gender)\n",
    "\n",
    "        if len(gender_window) >= frame_window:\n",
    "            gender_window.pop(0)\n",
    "        try:\n",
    "            gender_mode = mode(gender_window)\n",
    "        except:\n",
    "            continue\n",
    "        cv2.putText(gray,gender_mode,(x,y-30), font, .7,(255,0,0),1,cv2.LINE_AA)\n",
    "    try:\n",
    "        cv2.imshow('window_frame', gray)\n",
    "    except:\n",
    "        continue\n",
    "\n",
    "    if cv2.waitKey(1) & 0xFF == ord('q'):\n",
    "        break\n",
    "\n",
    "video_capture.release()\n",
    "cv2.destroyAllWindows()"
   ]
  },
  {
   "cell_type": "code",
   "execution_count": null,
   "metadata": {
    "collapsed": true
   },
   "outputs": [],
   "source": []
  },
  {
   "cell_type": "code",
   "execution_count": null,
   "metadata": {
    "collapsed": false
   },
   "outputs": [],
   "source": []
  },
  {
   "cell_type": "code",
   "execution_count": null,
   "metadata": {
    "collapsed": true
   },
   "outputs": [],
   "source": []
  }
 ],
 "metadata": {
  "kernelspec": {
   "display_name": "Python [Root]",
   "language": "python",
   "name": "Python [Root]"
  },
  "language_info": {
   "codemirror_mode": {
    "name": "ipython",
    "version": 2
   },
   "file_extension": ".py",
   "mimetype": "text/x-python",
   "name": "python",
   "nbconvert_exporter": "python",
   "pygments_lexer": "ipython2",
   "version": "2.7.12"
  }
 },
 "nbformat": 4,
 "nbformat_minor": 0
}
