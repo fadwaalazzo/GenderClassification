{
 "cells": [
  {
   "cell_type": "code",
   "execution_count": 1,
   "metadata": {
    "collapsed": false
   },
   "outputs": [
    {
     "name": "stderr",
     "output_type": "stream",
     "text": [
      "Using TensorFlow backend.\n"
     ]
    }
   ],
   "source": [
    "import scipy\n",
    "import scipy.io as sio\n",
    "import numpy as np\n",
    "from PIL import Image\n",
    "import math\n",
    "import os\n",
    "from keras.models import Sequential\n",
    "from keras.layers import *\n",
    "from keras.layers.advanced_activations import PReLU\n",
    "#utilities help us transform our data\n",
    "from keras.utils import * \n",
    "from sklearn.cross_validation import train_test_split\n",
    "#rows, cols = 64,64\n",
    "import pandas as pd\n",
    "from keras.callbacks import EarlyStopping, ModelCheckpoint, CSVLogger\n",
    "import tensorflow as tf\n",
    "\n",
    "import cv2\n",
    "from keras.models import load_model\n",
    "from statistics import mode\n",
    "#from utils import preprocess_input\n",
    "from random import shuffle"
   ]
  },
  {
   "cell_type": "code",
   "execution_count": 32,
   "metadata": {
    "collapsed": true
   },
   "outputs": [],
   "source": [
    "class Data_Generator:\n",
    "    def __init__(self, metadata_path, batch_size, val_split):\n",
    "\n",
    "        self.data = scipy.io.loadmat(metadata_path)\n",
    "        self.img_paths = self.data['wiki']['full_path'][0][0][0]\n",
    "        self.genders = self.data['wiki']['gender'][0][0][0]\n",
    "        self.batch_size = batch_size\n",
    "        self.val_split = val_split  \n",
    "        self.face_score = self.data['wiki']['face_score'][0][0][0]\n",
    "        self.second_face_score = self.data['wiki']['second_face_score'][0][0][0]\n",
    "        self.load_keys()\n",
    "\n",
    "    def load_keys(self):\n",
    "        \n",
    "        \"\"\" load wiki dataset \n",
    "        # Take 5000 images of males and females\n",
    "                Faces are selected with some threshold\n",
    "                As all images in database are not accurate\n",
    "                for gender \"0\" represents female and \"1\" represents male and \"nan\" represents blank image                \n",
    "        \"\"\" \n",
    "        indices = []\n",
    "        count_male, count_female = 0, 0\n",
    "        n_m, n_f = 5000,5000\n",
    "        for i in range(len(self.img_paths)):\n",
    "            if count_female == n_f and count_male == n_m:\n",
    "                break            \n",
    "            if (self.face_score[i] > 3.00000000000 and (math.isnan(self.second_face_score[i]) == True)):\n",
    "                if (math.isinf(self.face_score[i]) == False):\n",
    "                    if (math.isnan(self.genders[i]) == False):\n",
    "                        gender = self.genders[i]\n",
    "                        if gender == 0 and count_female < n_f:\n",
    "                            count_female += 1\n",
    "                            indices.append(i)\n",
    "                        elif gender == 1 and count_male < n_m:\n",
    "                            count_male += 1\n",
    "                            indices.append(i)  \n",
    "                               \n",
    "        self.number_of_imgs = len(indices)\n",
    "\n",
    "        self.val_size = int(self.number_of_imgs * self.val_split)\n",
    "        self.train_size = self.number_of_imgs - self.val_size\n",
    "        shuffle(indices)\n",
    "        self.train_keys = indices[:self.train_size]\n",
    "        self.val_keys = indices[self.train_size:]\n",
    "\n",
    "\n",
    "    def load_data(self, is_train):\n",
    "        \n",
    "        \"\"\" load wiki dataset \n",
    "        # Returns: faces and genders\n",
    "                face: shape (64, 64, 1)\n",
    "                gender_labels: 0 for female and 1 for male\n",
    "        \"\"\" \n",
    "        \n",
    "        while 1:\n",
    "            faces = []\n",
    "            gender_labels = []   \n",
    "\n",
    "            shuffle(self.train_keys)\n",
    "            keys = self.train_keys\n",
    "            if not is_train:\n",
    "                keys = self.val_keys\n",
    "\n",
    "            for key in keys:\n",
    "                img_path = self.img_paths[key][0]\n",
    "                img = cv2.imread('./wiki_crop/' + img_path, 0)            \n",
    "\n",
    "                faces.append(cv2.resize(img, (64, 64)))\n",
    "                gender_labels.append(self.genders[key])\n",
    "\n",
    "                if len(faces) == self.batch_size:\n",
    "                    faces = np.expand_dims(faces,-1)\n",
    "                    gender_labels = pd.get_dummies(gender_labels).as_matrix()\n",
    "                    yield (faces, gender_labels)\n",
    "                    faces = []\n",
    "                    gender_labels = []\n",
    "\n",
    "            if len(faces) == 0:\n",
    "                continue\n",
    "            faces = np.expand_dims(faces,-1)\n",
    "            gender_labels = pd.get_dummies(gender_labels).as_matrix()\n",
    "            yield (faces, gender_labels)\n"
   ]
  },
  {
   "cell_type": "code",
   "execution_count": 33,
   "metadata": {
    "collapsed": false
   },
   "outputs": [],
   "source": [
    "\n",
    "data_path = './wiki_crop/wiki.mat'\n",
    "model_save_path = './wiki_crop/test_CNN.hdf5'\n",
    "num_classes = 2\n",
    "image_size = (64, 64, 1)\n",
    "batch_size = 150\n",
    "num_epochs = 20\n",
    "val_split = 0.1\n",
    "data = Data_Generator(data_path, batch_size, val_split)\n",
    "gen_train = data.load_data(True)\n",
    "gen_val = data.load_data(False)"
   ]
  },
  {
   "cell_type": "code",
   "execution_count": 35,
   "metadata": {
    "collapsed": false
   },
   "outputs": [
    {
     "name": "stdout",
     "output_type": "stream",
     "text": [
      "Epoch 1/20\n",
      "9000/9000 [==============================] - 320s - loss: 0.7500 - acc: 0.6279 - val_loss: 0.6029 - val_acc: 0.6840\n",
      "Epoch 2/20\n",
      "9000/9000 [==============================] - 301s - loss: 0.5690 - acc: 0.7048 - val_loss: 0.5724 - val_acc: 0.7060\n",
      "Epoch 3/20\n",
      "9000/9000 [==============================] - 291s - loss: 0.5302 - acc: 0.7362 - val_loss: 0.5102 - val_acc: 0.7700\n",
      "Epoch 4/20\n",
      "9000/9000 [==============================] - 290s - loss: 0.5049 - acc: 0.7480 - val_loss: 0.4620 - val_acc: 0.8040\n",
      "Epoch 5/20\n",
      "9000/9000 [==============================] - 289s - loss: 0.4788 - acc: 0.7714 - val_loss: 0.4981 - val_acc: 0.7850\n",
      "Epoch 6/20\n",
      "9000/9000 [==============================] - 289s - loss: 0.4509 - acc: 0.7917 - val_loss: 0.4591 - val_acc: 0.7710\n",
      "Epoch 7/20\n",
      "9000/9000 [==============================] - 290s - loss: 0.4217 - acc: 0.8031 - val_loss: 0.4072 - val_acc: 0.8140\n",
      "Epoch 8/20\n",
      "9000/9000 [==============================] - 292s - loss: 0.3899 - acc: 0.8211 - val_loss: 0.4036 - val_acc: 0.8240\n",
      "Epoch 9/20\n",
      "9000/9000 [==============================] - 293s - loss: 0.3755 - acc: 0.8267 - val_loss: 0.3955 - val_acc: 0.8190\n",
      "Epoch 10/20\n",
      "9000/9000 [==============================] - 293s - loss: 0.3692 - acc: 0.8363 - val_loss: 0.3365 - val_acc: 0.8650\n",
      "Epoch 11/20\n",
      "9000/9000 [==============================] - 290s - loss: 0.3540 - acc: 0.8438 - val_loss: 0.3976 - val_acc: 0.8320\n",
      "Epoch 12/20\n",
      "9000/9000 [==============================] - 290s - loss: 0.3378 - acc: 0.8536 - val_loss: 0.3296 - val_acc: 0.8700\n",
      "Epoch 13/20\n",
      "9000/9000 [==============================] - 330s - loss: 0.3299 - acc: 0.8553 - val_loss: 0.3874 - val_acc: 0.8270\n",
      "Epoch 14/20\n",
      "9000/9000 [==============================] - 304s - loss: 0.3212 - acc: 0.8617 - val_loss: 0.3121 - val_acc: 0.8680\n",
      "Epoch 15/20\n",
      "9000/9000 [==============================] - 292s - loss: 0.3096 - acc: 0.8661 - val_loss: 0.3016 - val_acc: 0.8840\n",
      "Epoch 16/20\n",
      "9000/9000 [==============================] - 292s - loss: 0.3038 - acc: 0.8690 - val_loss: 0.3195 - val_acc: 0.8770\n",
      "Epoch 17/20\n",
      "9000/9000 [==============================] - 292s - loss: 0.3014 - acc: 0.8664 - val_loss: 0.3511 - val_acc: 0.8470\n",
      "Epoch 18/20\n",
      "9000/9000 [==============================] - 292s - loss: 0.2737 - acc: 0.8840 - val_loss: 0.4057 - val_acc: 0.8360\n",
      "Epoch 19/20\n",
      "9000/9000 [==============================] - 292s - loss: 0.2751 - acc: 0.8808 - val_loss: 0.6073 - val_acc: 0.7550\n",
      "Epoch 20/20\n",
      "9000/9000 [==============================] - 292s - loss: 0.2674 - acc: 0.8844 - val_loss: 0.3683 - val_acc: 0.8530\n"
     ]
    },
    {
     "data": {
      "text/plain": [
       "<keras.callbacks.History at 0x7f67fe25ab50>"
      ]
     },
     "execution_count": 35,
     "metadata": {},
     "output_type": "execute_result"
    }
   ],
   "source": [
    "model = CNN(image_size, num_classes)\n",
    "model.compile(optimizer='adam', loss='categorical_crossentropy',\n",
    "                                        metrics=['accuracy'])\n",
    "csv_logger = CSVLogger('training.log')\n",
    "early_stop = EarlyStopping('val_acc', patience=200, verbose=1)\n",
    "model_checkpoint = ModelCheckpoint(model_save_path,\n",
    "                                    'val_acc', verbose=0,\n",
    "                                    save_best_only=True)\n",
    "\n",
    "model_callbacks = [early_stop, model_checkpoint, csv_logger]\n",
    "\n",
    "K.get_session().run(tf.global_variables_initializer())\n",
    "model.fit_generator(gen_train, nb_epoch=num_epochs, verbose=1, \n",
    "                                    validation_data=gen_val,\n",
    "                                    samples_per_epoch=data.train_size,\n",
    "                                    nb_val_samples=data.val_size,\n",
    "                                    callbacks=model_callbacks)"
   ]
  },
  {
   "cell_type": "code",
   "execution_count": 34,
   "metadata": {
    "collapsed": true
   },
   "outputs": [],
   "source": [
    "def CNN(input_shape,num_classes):\n",
    "    model = Sequential()\n",
    "\n",
    "    model.add(Convolution2D(16, 7, 7, border_mode='same',\n",
    "                            input_shape=input_shape))\n",
    "    model.add(PReLU())\n",
    "    model.add(BatchNormalization())\n",
    "    model.add(AveragePooling2D(pool_size=(5, 5),strides=(2, 2), border_mode='same'))\n",
    "    model.add(Dropout(.5))\n",
    "\n",
    "    model.add(Convolution2D(32, 5, 5, border_mode='same'))\n",
    "    model.add(PReLU())\n",
    "    model.add(BatchNormalization())\n",
    "    model.add(AveragePooling2D(pool_size=(3, 3),strides=(2, 2), border_mode='same'))\n",
    "    model.add(Dropout(.5))\n",
    "\n",
    "    model.add(Convolution2D(32, 3, 3, border_mode='same'))\n",
    "    model.add(PReLU())\n",
    "    model.add(BatchNormalization())\n",
    "    model.add(AveragePooling2D(pool_size=(3, 3),strides=(2, 2), border_mode='same'))\n",
    "    model.add(Dropout(.5))\n",
    "\n",
    "    model.add(Flatten())\n",
    "    model.add(Dense(1028))\n",
    "    model.add(PReLU())\n",
    "    model.add(Dropout(0.5))\n",
    "    model.add(Dense(1028))\n",
    "    model.add(PReLU())\n",
    "    model.add(Dropout(0.5))\n",
    "    model.add(Dense(num_classes))\n",
    "    model.add(Activation('softmax'))\n",
    "\n",
    "    return model"
   ]
  },
  {
   "cell_type": "code",
   "execution_count": 2,
   "metadata": {
    "collapsed": true
   },
   "outputs": [],
   "source": []
  },
  {
   "cell_type": "code",
   "execution_count": null,
   "metadata": {
    "collapsed": false
   },
   "outputs": [],
   "source": [
    "classification_model_path = './wiki_crop/test_CNN.hdf5'\n",
    "detection_model_path = './wiki_crop/haarcascade_frontalface_default.xml'\n",
    "frame_window = 10\n",
    "gender_labels = {0:'Female',1:'Male'}\n",
    "\n",
    "face_detection = cv2.CascadeClassifier(detection_model_path)\n",
    "gender_classifier = load_model(classification_model_path)\n",
    "gender_window = []\n",
    "video_capture = cv2.VideoCapture(0)\n",
    "font = cv2.FONT_HERSHEY_SIMPLEX\n",
    "cv2.startWindowThread()\n",
    "cv2.namedWindow('window_frame')\n",
    "while True:\n",
    "    _, frame = video_capture.read()\n",
    "    gray = cv2.cvtColor(frame, cv2.COLOR_BGR2GRAY)\n",
    "    faces = face_detection.detectMultiScale(gray,1.3,5)\n",
    "    for (x,y,w,h) in faces:\n",
    "        cv2.rectangle(gray,(x - (int)(0.2*w), y - (int)(0.3*h)),(x + (int)(1.2*w), y + (int)(1.2*h)),(255,0,0),2)\n",
    "        face = gray[y - (int)(0.3*h) : y + (int)(1.2*h), x - (int)(0.2*w) : x + (int)(1.2*w)]\n",
    "        try:\n",
    "            face = cv2.resize(face, (64, 64))\n",
    "        except:\n",
    "            continue\n",
    "        face = np.expand_dims(face,0)\n",
    "        face = np.expand_dims(face,-1)\n",
    "        gender_arg = np.argmax(gender_classifier.predict(face))\n",
    "        gender = gender_labels[gender_arg]\n",
    "        gender_window.append(gender)\n",
    "\n",
    "        if len(gender_window) >= frame_window:\n",
    "            gender_window.pop(0)\n",
    "        try:\n",
    "            gender_mode = mode(gender_window)\n",
    "        except:\n",
    "            continue\n",
    "        cv2.putText(gray,gender_mode,(x,y-30), font, .7,(255,0,0),1,cv2.LINE_AA)\n",
    "    try:\n",
    "        cv2.imshow('window_frame', gray)\n",
    "    except:\n",
    "        continue\n",
    "\n",
    "    if cv2.waitKey(1) & 0xFF == ord('q'):\n",
    "        break\n",
    "\n",
    "video_capture.release()\n",
    "cv2.destroyAllWindows()"
   ]
  },
  {
   "cell_type": "code",
   "execution_count": null,
   "metadata": {
    "collapsed": true
   },
   "outputs": [],
   "source": []
  }
 ],
 "metadata": {
  "kernelspec": {
   "display_name": "Python [Root]",
   "language": "python",
   "name": "Python [Root]"
  },
  "language_info": {
   "codemirror_mode": {
    "name": "ipython",
    "version": 2
   },
   "file_extension": ".py",
   "mimetype": "text/x-python",
   "name": "python",
   "nbconvert_exporter": "python",
   "pygments_lexer": "ipython2",
   "version": "2.7.12"
  }
 },
 "nbformat": 4,
 "nbformat_minor": 0
}
